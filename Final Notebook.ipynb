{
 "cells": [
  {
   "cell_type": "code",
   "execution_count": 14,
   "id": "initial_id",
   "metadata": {
    "ExecuteTime": {
     "end_time": "2024-04-21T06:55:52.494104506Z",
     "start_time": "2024-04-21T06:55:45.751285447Z"
    }
   },
   "outputs": [],
   "source": [
    "from embedding_model import Embeddings\n",
    "from pattern_matching import PatternMatching\n",
    "from logistic_regression import LR\n",
    "import pandas as pd\n",
    "import time\n",
    "import requests\n",
    "import threading\n",
    "import numpy as np"
   ]
  },
  {
   "cell_type": "markdown",
   "id": "e1a54811e16caaeb",
   "metadata": {
    "collapsed": false
   },
   "source": [
    "# Setup"
   ]
  },
  {
   "cell_type": "code",
   "execution_count": 15,
   "id": "53bd0ea48ca8c9e6",
   "metadata": {
    "ExecuteTime": {
     "start_time": "2024-04-21T07:22:27.368039372Z"
    },
    "collapsed": false,
    "is_executing": true
   },
   "outputs": [
    {
     "name": "stderr",
     "output_type": "stream",
     "text": [
      "/home/tibi/miniconda3/envs/ML/lib/python3.11/site-packages/sklearn/base.py:348: InconsistentVersionWarning: Trying to unpickle estimator CountVectorizer from version 1.3.1 when using version 1.3.2. This might lead to breaking code or invalid results. Use at your own risk. For more info please refer to:\n",
      "https://scikit-learn.org/stable/model_persistence.html#security-maintainability-limitations\n",
      "  warnings.warn(\n",
      "/home/tibi/miniconda3/envs/ML/lib/python3.11/site-packages/sklearn/base.py:348: InconsistentVersionWarning: Trying to unpickle estimator LogisticRegression from version 1.3.1 when using version 1.3.2. This might lead to breaking code or invalid results. Use at your own risk. For more info please refer to:\n",
      "https://scikit-learn.org/stable/model_persistence.html#security-maintainability-limitations\n",
      "  warnings.warn(\n",
      "/home/tibi/miniconda3/envs/ML/lib/python3.11/site-packages/sklearn/base.py:348: InconsistentVersionWarning: Trying to unpickle estimator Pipeline from version 1.3.1 when using version 1.3.2. This might lead to breaking code or invalid results. Use at your own risk. For more info please refer to:\n",
      "https://scikit-learn.org/stable/model_persistence.html#security-maintainability-limitations\n",
      "  warnings.warn(\n"
     ]
    }
   ],
   "source": [
    "# Embeddings model\n",
    "targets = {\n",
    "    1: 'hints_name',\n",
    "    2: 'hints_tags',\n",
    "    3: 'hints_short_description',\n",
    "    4: 'hints_full_description',\n",
    "    5: 'naics_label'\n",
    "}\n",
    "business_taxonomy = pd.read_csv('Business_category_taxonomy.csv')\n",
    "naics_taxonomy = pd.read_csv('Naics3labeltaxonomy.csv')\n",
    "hints = pd.read_csv('tournament_hints_data.csv')\n",
    "labels = pd.read_csv('cleaned_naics_codes_final.csv')\n",
    "files = {\n",
    "    'business': business_taxonomy,\n",
    "    'naics': naics_taxonomy,\n",
    "    'hints': hints,\n",
    "    'labels': labels\n",
    "}\n",
    "\n",
    "model_name = 'all-MiniLM-L6-v2'\n",
    "embeddings = Embeddings(model_name, targets, files)\n",
    "\n",
    "# Pattern matching\n",
    "pattern_matching = PatternMatching(files['labels'])\n",
    "\n",
    "# Logistic Regression\n",
    "lr = LR('pipeline.joblib')\n",
    "\n",
    "# NAICS label mapping\n",
    "dictionary_labels = {}\n",
    "for i in range(len(naics_taxonomy)):\n",
    "    naics_code = naics_taxonomy['naics_code'][i]\n",
    "    dictionary_labels[naics_code] = i\n",
    "reversed_label_dict = {value: key for key, value in dictionary_labels.items()}"
   ]
  },
  {
   "cell_type": "code",
   "execution_count": 3,
   "id": "3d16e736b750839f",
   "metadata": {
    "collapsed": false,
    "is_executing": true
   },
   "outputs": [],
   "source": [
    "def run():\n",
    "    # Get a new hint for current company or get the first hint for a new company after calling /evaluate/reset\n",
    "    try:\n",
    "        response = requests.get(f\"{base_url}/evaluate/hint\", headers=headers)\n",
    "    except:\n",
    "        print('GET request failed')\n",
    "        return\n",
    "    response_data = response.json()\n",
    "    hint = response_data['hint']\n",
    "    level = response_data['level']\n",
    "    time.sleep(1)\n",
    "\n",
    "    # Rounds\n",
    "    confidence = 0.6\n",
    "    abstained = False\n",
    "    \n",
    "    if level == 1:\n",
    "        pred = pattern_matching.predict_naics(hint)\n",
    "        if pred is None:\n",
    "            confidence -= 0.1\n",
    "            threshold = 0.5\n",
    "            probs = lr.predict_proba(hint)\n",
    "            best_class_indices = np.argmax(probs, axis=1)\n",
    "            best_probabilities = np.max(probs, axis=1)\n",
    "            if best_probabilities[0] >= threshold:\n",
    "                pred = reversed_label_dict[best_class_indices[0]]\n",
    "            else:\n",
    "                confidence -= 0.1\n",
    "                pred = embeddings(hint, level)\n",
    "    elif level == 2:\n",
    "        confidence -= 0.1\n",
    "        pred = embeddings(hint, level)\n",
    "    elif level == 3:\n",
    "        if np.random.rand() > confidence and not abstained:\n",
    "            pred = 'abstain'\n",
    "            abstained = True\n",
    "        else:\n",
    "            confidence -= 0.1\n",
    "            pred = embeddings(hint, level)\n",
    "    elif level == 4:\n",
    "        if np.random.rand() > confidence and not abstained:\n",
    "            pred = 'abstain'\n",
    "            abstained = True\n",
    "        else:\n",
    "            confidence -= 0.1\n",
    "            pred = embeddings(hint, level)\n",
    "    elif level == 5:\n",
    "        if not abstained:\n",
    "            pred = 'abstain'\n",
    "            abstained = True\n",
    "        else:\n",
    "            pred = embeddings(hint, level)\n",
    "    print(f'Round {level}, Hint - {hint}, Pred - {pred}')\n",
    "    mapping_dict = dict(zip(naics_taxonomy['naics_code'], naics_taxonomy['naics_label']))\n",
    "    data = {\n",
    "        'answer': f'{pred} - {mapping_dict(pred)}'\n",
    "    }\n",
    "    response = requests.post(f\"{base_url}/evaluate/answer\", json=data, headers=headers)\n",
    "    try:\n",
    "        response_data = response.json()\n",
    "        print(f\"Round {level}, Result={response_data['result']}, Score={response_data['score']}, Answer={response_data['answer']}\\n\")\n",
    "    except:\n",
    "        pass"
   ]
  },
  {
   "cell_type": "markdown",
   "id": "4c8a74b3d1f34f2a",
   "metadata": {
    "collapsed": false
   },
   "source": [
    "# Running cell"
   ]
  },
  {
   "cell_type": "code",
   "execution_count": 13,
   "id": "5420cc7bad22d631",
   "metadata": {
    "ExecuteTime": {
     "end_time": "2024-04-21T07:20:29.934082535Z",
     "start_time": "2024-04-21T07:20:18.553249103Z"
    },
    "collapsed": false
   },
   "outputs": [
    {
     "name": "stdout",
     "output_type": "stream",
     "text": [
      "Round 5, Hint - Art & Music Publishers, Pred - 513\n"
     ]
    }
   ],
   "source": [
    "base_url = 'http://116.202.111.229:8000'\n",
    "api_key = 'AjBzyzk6Wg8V6hD48EH8btOOOJOAtYn1'\n",
    "\n",
    "headers = {\n",
    "    'x-api-key': api_key\n",
    "}\n",
    "\n",
    "# 5 rounds\n",
    "# for _ in range(5):\n",
    "thread = threading.Thread(target=run)\n",
    "thread.start()\n",
    "thread.join(timeout=4.5)\n",
    "\n",
    "# Check if thread is still alive after the timeout\n",
    "if thread.is_alive():\n",
    "    pred = naics_taxonomy['naics_code'].sample(1).iloc[0]\n",
    "    mapping_dict = dict(zip(naics_taxonomy['naics_code'], naics_taxonomy['naics_label']))\n",
    "    data = {\n",
    "        'answer': f'{pred} - {mapping_dict(pred)}'\n",
    "    }\n",
    "    response = requests.post(f\"{base_url}/evaluate/answer\", json=data, headers=headers)\n",
    "    response_data = response.json()\n",
    "    print(f\"Round {response_data['level']}, Result={response_data['result']}, Score={response_data['score']}, Answer={response_data['answer']}\\n\")\n",
    "else:\n",
    "    thread.join()\n",
    "    time.sleep(1)\n",
    "\n",
    "# Get hints about a new company\n",
    "# response = requests.get(f\"{base_url}/evaluate/reset\", headers=headers)\n",
    "# print(response.status_code, response.json())"
   ]
  },
  {
   "cell_type": "code",
   "execution_count": 28,
   "id": "5078862820d3dc31",
   "metadata": {
    "ExecuteTime": {
     "end_time": "2024-04-21T07:03:43.343533154Z",
     "start_time": "2024-04-21T07:03:43.243314843Z"
    },
    "collapsed": false
   },
   "outputs": [
    {
     "name": "stdout",
     "output_type": "stream",
     "text": [
      "500 {'title': '500 Internal Server Error'}\n"
     ]
    }
   ],
   "source": [
    "# Get hints about a new company\n",
    "response = requests.get(f\"{base_url}/evaluate/reset\", headers=headers)\n",
    "print(response.status_code, response.json())"
   ]
  }
 ],
 "metadata": {
  "kernelspec": {
   "display_name": "Python 3 (ipykernel)",
   "language": "python",
   "name": "python3"
  },
  "language_info": {
   "codemirror_mode": {
    "name": "ipython",
    "version": 3
   },
   "file_extension": ".py",
   "mimetype": "text/x-python",
   "name": "python",
   "nbconvert_exporter": "python",
   "pygments_lexer": "ipython3",
   "version": "3.11.6"
  }
 },
 "nbformat": 4,
 "nbformat_minor": 5
}
