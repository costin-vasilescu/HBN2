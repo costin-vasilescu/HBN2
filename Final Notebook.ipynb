{
 "cells": [
  {
   "cell_type": "code",
   "execution_count": 10,
   "id": "initial_id",
   "metadata": {
    "collapsed": true,
    "ExecuteTime": {
     "end_time": "2024-04-21T03:16:38.028177205Z",
     "start_time": "2024-04-21T03:16:37.518758784Z"
    }
   },
   "outputs": [],
   "source": [
    "from embedding_model import Embeddings\n",
    "from pattern_matching import PatternMatching\n",
    "from logistic_regression import LR\n",
    "import pandas as pd\n",
    "import time\n",
    "import requests"
   ]
  },
  {
   "cell_type": "markdown",
   "source": [
    "# Setup"
   ],
   "metadata": {
    "collapsed": false
   },
   "id": "e1a54811e16caaeb"
  },
  {
   "cell_type": "code",
   "execution_count": 14,
   "outputs": [],
   "source": [
    "# Embeddings model\n",
    "targets = {\n",
    "    1: 'hints_category',\n",
    "    2: 'hints_category',\n",
    "    3: 'naics_description',\n",
    "    4: 'naics_description',\n",
    "    5: 'hints_tags'\n",
    "}\n",
    "business_taxonomy = pd.read_csv('Business_category_taxonomy.csv')\n",
    "naics_taxonomy = pd.read_csv('Naics3labeltaxonomy.csv')\n",
    "hints = pd.read_csv('tournament_hints_data.csv')\n",
    "labels = pd.read_csv('cleaned_naics_codes.csv')\n",
    "files = {\n",
    "    'business': business_taxonomy,\n",
    "    'naics': naics_taxonomy,\n",
    "    'hints': hints,\n",
    "    'labels': labels\n",
    "}\n",
    "\n",
    "model_name = 'all-MiniLM-L6-v2'\n",
    "embeddings = Embeddings(model_name, targets, files)\n",
    "\n",
    "# Pattern matching\n",
    "pattern_matching = PatternMatching(files['labels'])\n",
    "\n",
    "# Logistic Regression\n",
    "lr = LR('pipeline.joblib')\n",
    "\n",
    "# BERT"
   ],
   "metadata": {
    "collapsed": false,
    "ExecuteTime": {
     "end_time": "2024-04-21T03:21:01.056705660Z",
     "start_time": "2024-04-21T03:20:22.911395563Z"
    }
   },
   "id": "3d16e736b750839f"
  },
  {
   "cell_type": "markdown",
   "source": [
    "# Running cell"
   ],
   "metadata": {
    "collapsed": false
   },
   "id": "4c8a74b3d1f34f2a"
  },
  {
   "cell_type": "code",
   "execution_count": 18,
   "outputs": [
    {
     "name": "stdout",
     "output_type": "stream",
     "text": [
      "200 {'company_id': 148, 'level': 2, 'hint': 'Drywall Repair Services | Cabinet Refinishing and Repainting Services | Fully Licensed and Insured | Touch-up Services | Residential and Commercial Painting'}\n",
      "429 {'title': 'Reached allowed limit 1 hits per 1 second!'}\n",
      "200 {'company_id': 148, 'level': 3, 'hint': 'Springfield Painting Services is a painter that specializes in residential and commercial painting in the Springfield, MO area.'}\n",
      "429 {'title': 'Reached allowed limit 1 hits per 1 second!'}\n",
      "200 {'company_id': 148, 'level': 4, 'hint': 'Springfield Painting Services is a professional painting company that specializes in residential and commercial painting in the Springfield, MO area. They offer a variety of services, including exterior and interior painting, drywall repair, and cabinet refinishing and repainting. Their experienced painters take pride in their work and use high-quality paints and techniques to ensure customer satisfaction. They also provide excellent customer service and take care of any post-job clean-up needs. With years of experience, Springfield Painting Services offers competitive rates and a wide range of colors to choose from to achieve the perfect look for your home or business.'}\n",
      "429 {'title': 'Reached allowed limit 1 hits per 1 second!'}\n",
      "200 {'company_id': 148, 'level': 5, 'hint': 'Painting, Plastering & Wall Covering'}\n",
      "429 {'title': 'Reached allowed limit 1 hits per 1 second!'}\n",
      "200 {'company_id': 148, 'level': 1, 'hint': 'Springfield Painting Services'}\n"
     ]
    },
    {
     "ename": "AttributeError",
     "evalue": "'NoneType' object has no attribute 'split'",
     "output_type": "error",
     "traceback": [
      "\u001B[0;31m---------------------------------------------------------------------------\u001B[0m",
      "\u001B[0;31mAttributeError\u001B[0m                            Traceback (most recent call last)",
      "Cell \u001B[0;32mIn[18], line 19\u001B[0m\n\u001B[1;32m     16\u001B[0m random_value \u001B[38;5;241m=\u001B[39m naics_taxonomy[\u001B[38;5;124m'\u001B[39m\u001B[38;5;124mnaics_code\u001B[39m\u001B[38;5;124m'\u001B[39m]\u001B[38;5;241m.\u001B[39msample(\u001B[38;5;241m1\u001B[39m)\u001B[38;5;241m.\u001B[39miloc[\u001B[38;5;241m0\u001B[39m]\n\u001B[1;32m     18\u001B[0m \u001B[38;5;28;01mif\u001B[39;00m level \u001B[38;5;241m==\u001B[39m \u001B[38;5;241m1\u001B[39m:\n\u001B[0;32m---> 19\u001B[0m     pred \u001B[38;5;241m=\u001B[39m \u001B[43mpattern_matching\u001B[49m\u001B[38;5;241;43m.\u001B[39;49m\u001B[43mpredict_naics\u001B[49m\u001B[43m(\u001B[49m\u001B[43mhint\u001B[49m\u001B[43m)\u001B[49m\n\u001B[1;32m     20\u001B[0m     \u001B[38;5;28;01mif\u001B[39;00m pred \u001B[38;5;129;01mis\u001B[39;00m \u001B[38;5;129;01mnot\u001B[39;00m \u001B[38;5;28;01mNone\u001B[39;00m:\n\u001B[1;32m     21\u001B[0m         pred \u001B[38;5;241m=\u001B[39m embeddings(hint, level)\n",
      "File \u001B[0;32m~/Programming/HBN2/pattern_matching.py:32\u001B[0m, in \u001B[0;36mPatternMatching.predict_naics\u001B[0;34m(self, input)\u001B[0m\n\u001B[1;32m     29\u001B[0m \u001B[38;5;28;01mdef\u001B[39;00m \u001B[38;5;21mpredict_naics\u001B[39m(\u001B[38;5;28mself\u001B[39m, \u001B[38;5;28minput\u001B[39m):\n\u001B[1;32m     30\u001B[0m     \u001B[38;5;66;03m# Preprocess input\u001B[39;00m\n\u001B[1;32m     31\u001B[0m     \u001B[38;5;28minput\u001B[39m \u001B[38;5;241m=\u001B[39m \u001B[38;5;28mself\u001B[39m\u001B[38;5;241m.\u001B[39mtransform_lowercase([\u001B[38;5;28minput\u001B[39m])\n\u001B[0;32m---> 32\u001B[0m     \u001B[38;5;28minput\u001B[39m \u001B[38;5;241m=\u001B[39m \u001B[38;5;28;43mself\u001B[39;49m\u001B[38;5;241;43m.\u001B[39;49m\u001B[43mstem_with_nltk\u001B[49m\u001B[43m(\u001B[49m\u001B[43m[\u001B[49m\u001B[38;5;28;43minput\u001B[39;49m\u001B[43m]\u001B[49m\u001B[43m)\u001B[49m\n\u001B[1;32m     34\u001B[0m     substrings \u001B[38;5;241m=\u001B[39m \u001B[38;5;28mset\u001B[39m()\n\u001B[1;32m     35\u001B[0m     \u001B[38;5;28;01mfor\u001B[39;00m i \u001B[38;5;129;01min\u001B[39;00m \u001B[38;5;28mrange\u001B[39m(\u001B[38;5;28mlen\u001B[39m(\u001B[38;5;28minput\u001B[39m) \u001B[38;5;241m-\u001B[39m \u001B[38;5;241m2\u001B[39m):\n",
      "File \u001B[0;32m~/Programming/HBN2/pattern_matching.py:22\u001B[0m, in \u001B[0;36mPatternMatching.stem_with_nltk\u001B[0;34m(self, sentences_list)\u001B[0m\n\u001B[1;32m     19\u001B[0m stemmed_list \u001B[38;5;241m=\u001B[39m []\n\u001B[1;32m     21\u001B[0m \u001B[38;5;28;01mfor\u001B[39;00m sentence \u001B[38;5;129;01min\u001B[39;00m sentences_list:\n\u001B[0;32m---> 22\u001B[0m     tokens \u001B[38;5;241m=\u001B[39m \u001B[43msentence\u001B[49m\u001B[38;5;241;43m.\u001B[39;49m\u001B[43msplit\u001B[49m()\n\u001B[1;32m     23\u001B[0m     stemmed_tokens \u001B[38;5;241m=\u001B[39m [stemmer\u001B[38;5;241m.\u001B[39mstem(token) \u001B[38;5;28;01mfor\u001B[39;00m token \u001B[38;5;129;01min\u001B[39;00m tokens]\n\u001B[1;32m     24\u001B[0m     stemmed_sentence \u001B[38;5;241m=\u001B[39m \u001B[38;5;124m'\u001B[39m\u001B[38;5;124m \u001B[39m\u001B[38;5;124m'\u001B[39m\u001B[38;5;241m.\u001B[39mjoin(stemmed_tokens)\n",
      "\u001B[0;31mAttributeError\u001B[0m: 'NoneType' object has no attribute 'split'"
     ]
    }
   ],
   "source": [
    "base_url = 'http://116.202.111.229:8000'\n",
    "api_key = 'AjBzyzk6Wg8V6hD48EH8btOOOJOAtYn1'\n",
    "\n",
    "headers = {\n",
    "    'x-api-key': api_key\n",
    "}\n",
    "\n",
    "# 5 rounds\n",
    "for i in range(5):\n",
    "    # Get a new hint for current company or get the first hint for a new company after calling /evaluate/reset\n",
    "    response = requests.get(f\"{base_url}/evaluate/hint\", headers=headers)\n",
    "    print(response.status_code, response.json())\n",
    "\n",
    "    hint = response.json()['hint']\n",
    "    level = response.json()['level']\n",
    "    random_value = naics_taxonomy['naics_code'].sample(1).iloc[0]\n",
    "\n",
    "    if level == 1:\n",
    "        pred = pattern_matching.predict_naics(hint)\n",
    "        if pred is not None:\n",
    "            pred = lr.predict(hint)\n",
    "            # pred = embeddings(hint, level)\n",
    "    elif level == 2:\n",
    "        pred = embeddings(hint, level)\n",
    "    elif level == 3:\n",
    "        pred = embeddings(hint, level)\n",
    "    elif level == 4:\n",
    "        pred = embeddings(hint, level)\n",
    "    elif level == 5:\n",
    "        pred = embeddings(hint, level)\n",
    "        \n",
    "    data = {\n",
    "        'answer': str(pred)\n",
    "    }\n",
    "    response = requests.post(f\"{base_url}/evaluate/answer\", json=data, headers=headers)\n",
    "    print(response.status_code, response.json())\n",
    "    time.sleep(1.5)\n",
    "\n",
    "# Get hints about a new company\n",
    "response = requests.get(f\"{base_url}/evaluate/reset\", headers=headers)\n",
    "print(response.status_code, response.json())"
   ],
   "metadata": {
    "collapsed": false,
    "ExecuteTime": {
     "end_time": "2024-04-21T03:33:53.022425837Z",
     "start_time": "2024-04-21T03:33:45.569545883Z"
    }
   },
   "id": "5420cc7bad22d631"
  },
  {
   "cell_type": "code",
   "execution_count": 17,
   "outputs": [
    {
     "name": "stdout",
     "output_type": "stream",
     "text": [
      "200 {'response': 'Wait for 113.16682314872742 seconds'}\n"
     ]
    }
   ],
   "source": [
    "# Get hints about a new company\n",
    "response = requests.get(f\"{base_url}/evaluate/reset\", headers=headers)\n",
    "print(response.status_code, response.json())"
   ],
   "metadata": {
    "collapsed": false,
    "ExecuteTime": {
     "end_time": "2024-04-21T03:22:58.262240Z",
     "start_time": "2024-04-21T03:22:58.169176804Z"
    }
   },
   "id": "5078862820d3dc31"
  }
 ],
 "metadata": {
  "kernelspec": {
   "display_name": "Python 3",
   "language": "python",
   "name": "python3"
  },
  "language_info": {
   "codemirror_mode": {
    "name": "ipython",
    "version": 2
   },
   "file_extension": ".py",
   "mimetype": "text/x-python",
   "name": "python",
   "nbconvert_exporter": "python",
   "pygments_lexer": "ipython2",
   "version": "2.7.6"
  }
 },
 "nbformat": 4,
 "nbformat_minor": 5
}
